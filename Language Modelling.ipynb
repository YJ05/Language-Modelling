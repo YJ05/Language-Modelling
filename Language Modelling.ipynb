{
 "cells": [
  {
   "cell_type": "code",
   "execution_count": 43,
   "metadata": {
    "id": "2j_QtDXtRfR4"
   },
   "outputs": [],
   "source": [
    "import tensorflow as tf\n",
    "import numpy as np\n",
    "import json\n",
    "import matplotlib.pyplot as plt\n",
    "%matplotlib inline\n",
    "\n",
    "from tensorflow.keras.preprocessing.text import Tokenizer\n",
    "from tensorflow.keras.preprocessing.sequence import pad_sequences\n",
    "from tensorflow.keras import Sequential\n",
    "from tensorflow.keras.layers import Dense, GRU, Embedding"
   ]
  },
  {
   "cell_type": "code",
   "execution_count": 24,
   "metadata": {
    "colab": {
     "base_uri": "https://localhost:8080/"
    },
    "id": "3fRagWNBR0-E",
    "outputId": "d751b852-1dea-415a-d354-10e0aebc2390"
   },
   "outputs": [
    {
     "name": "stdout",
     "output_type": "stream",
     "text": [
      "Drive already mounted at /content/gdrive; to attempt to forcibly remount, call drive.mount(\"/content/gdrive\", force_remount=True).\n"
     ]
    }
   ],
   "source": [
    "from google.colab import drive\n",
    "drive.mount('/content/gdrive')"
   ]
  },
  {
   "cell_type": "markdown",
   "metadata": {
    "id": "ppOL7TDHRfSA"
   },
   "source": [
    "#### Load and inspect the dataset"
   ]
  },
  {
   "cell_type": "code",
   "execution_count": 25,
   "metadata": {
    "id": "XXwzWcB-RfSD"
   },
   "outputs": [],
   "source": [
    "# Load the text file into a string\n",
    "\n",
    "with open('gdrive/My Drive/Colab Notebooks/data/Shakespeare.txt', 'r', encoding='utf-8') as file:\n",
    "    text = file.read()"
   ]
  },
  {
   "cell_type": "code",
   "execution_count": 26,
   "metadata": {
    "id": "YzHw4wbCRfSH"
   },
   "outputs": [],
   "source": [
    "# Create a list of chunks of text\n",
    "\n",
    "text_chunks = text.split('.')"
   ]
  },
  {
   "cell_type": "markdown",
   "metadata": {
    "id": "pik73Zq2RfSO"
   },
   "source": [
    "To give you a feel for what the text looks like, we will print a few chunks from the list."
   ]
  },
  {
   "cell_type": "code",
   "execution_count": 27,
   "metadata": {
    "colab": {
     "base_uri": "https://localhost:8080/"
    },
    "id": "CMZj2MIYRfSP",
    "outputId": "40e17739-da36-4870-c952-05c8e43e6a5c"
   },
   "outputs": [
    {
     "name": "stdout",
     "output_type": "stream",
     "text": [
      "\n",
      "The first that there did greet my stranger soul,\n",
      "Was my great father-in-law, renowned Warwick;\n",
      "Who cried aloud, 'What scourge for perjury\n",
      "Can this dark monarchy afford false Clarence?'\n",
      "And so he vanish'd: then came wandering by\n",
      "A shadow like an angel, with bright hair\n",
      "Dabbled in blood; and he squeak'd out aloud,\n",
      "'Clarence is come; false, fleeting, perjured Clarence,\n",
      "That stabb'd me in the field by Tewksbury;\n",
      "Seize on him, Furies, take him to your torments!'\n",
      "With that, methoughts, a legion of foul fiends\n",
      "Environ'd me about, and howled in mine ears\n",
      "Such hideous cries, that with the very noise\n",
      "I trembling waked, and for a season after\n",
      "Could not believe but that I was in hell,\n",
      "Such terrible impression made the dream\n",
      "\n",
      "\n",
      "First Musician:\n",
      "Then I will give you the serving-creature\n",
      "\n",
      "\n",
      "CLARENCE:\n",
      "Didst thou not hear me swear I would not do it?\n",
      "\n",
      "QUEEN MARGARET:\n",
      "Ay, but thou usest to forswear thyself:\n",
      "'Twas sin before, but now 'tis charity\n",
      "\n",
      "\n",
      "PAULINA:\n",
      "A boy?\n",
      "\n",
      "EMILIA:\n",
      "A daughter, and a goodly babe,\n",
      "Lusty and like to live: the queen receives\n",
      "Much comfort in't; says 'My poor prisoner,\n",
      "I am innocent as you\n",
      "\n",
      "\n",
      "Clown:\n",
      "This cannot be but a great courtier\n"
     ]
    }
   ],
   "source": [
    "# Display some randomly selected text samples\n",
    "\n",
    "num_samples = 5\n",
    "inx = np.random.choice(len(text_chunks), num_samples, replace=False)\n",
    "for chunk in np.array(text_chunks)[inx]:\n",
    "    print(chunk)"
   ]
  },
  {
   "cell_type": "markdown",
   "metadata": {
    "id": "QSxfAsFARfSX"
   },
   "source": [
    "#### Create a character-level tokenizer"
   ]
  },
  {
   "cell_type": "code",
   "execution_count": 28,
   "metadata": {
    "id": "Q8s2aR4oRfSb"
   },
   "outputs": [],
   "source": [
    "def create_character_tokenizer(list_of_strings):\n",
    "    \"\"\"\n",
    "    This function takes a list of strings as its argument. It should create \n",
    "    and return a Tokenizer according to the above specifications. \n",
    "    \"\"\"\n",
    "    \n",
    "    tokenizer = Tokenizer(num_words=None, filters=None, lower=False, char_level=True)\n",
    "    tokenizer.fit_on_texts(list_of_strings)\n",
    "    return tokenizer"
   ]
  },
  {
   "cell_type": "code",
   "execution_count": 29,
   "metadata": {
    "id": "aKZpIcn_RfSf"
   },
   "outputs": [],
   "source": [
    "# Get the tokenizer\n",
    "\n",
    "tokenizer = create_character_tokenizer(text_chunks)"
   ]
  },
  {
   "cell_type": "code",
   "execution_count": 30,
   "metadata": {
    "id": "lkKDCvV1RfSj"
   },
   "outputs": [],
   "source": [
    "def strings_to_sequences(tokenizer, list_of_strings):\n",
    "    \"\"\"\n",
    "    This function takes a tokenizer object and a list of strings as its arguments.\n",
    "    It should use the tokenizer to map the text chunks to sequences of tokens and\n",
    "    then return this list of encoded sequences.\n",
    "    \"\"\"\n",
    "    \n",
    "    seq_chunks = tokenizer.texts_to_sequences(list_of_strings)\n",
    "    return seq_chunks"
   ]
  },
  {
   "cell_type": "code",
   "execution_count": 31,
   "metadata": {
    "id": "hhYb2mSlRfSo"
   },
   "outputs": [],
   "source": [
    "# Encode the text chunks into tokens\n",
    "\n",
    "seq_chunks = strings_to_sequences(tokenizer, text_chunks)"
   ]
  },
  {
   "cell_type": "markdown",
   "metadata": {
    "id": "iRCN70xkRfSt"
   },
   "source": [
    "#### Pad the encoded sequences and store them in a numpy array"
   ]
  },
  {
   "cell_type": "code",
   "execution_count": 32,
   "metadata": {
    "id": "zLf-9KxWRfSw"
   },
   "outputs": [],
   "source": [
    "def make_padded_dataset(sequence_chunks):\n",
    "    \"\"\"\n",
    "    This function takes a list of lists of tokenized sequences, and transforms\n",
    "    them into a 2D numpy array, padding the sequences as necessary according to\n",
    "    the above specification. The function should then return the numpy array.\n",
    "    \"\"\"\n",
    "    \n",
    "    padded_sequences = pad_sequences(sequence_chunks, maxlen=500, padding='pre', truncating='pre', value=0)\n",
    "    return padded_sequences"
   ]
  },
  {
   "cell_type": "code",
   "execution_count": 33,
   "metadata": {
    "id": "IKB26MgJRfS0"
   },
   "outputs": [],
   "source": [
    "# Pad the token sequence chunks and get the numpy array\n",
    "\n",
    "padded_sequences = make_padded_dataset(seq_chunks)"
   ]
  },
  {
   "cell_type": "code",
   "execution_count": 34,
   "metadata": {
    "id": "pzLY5mT3RfS5"
   },
   "outputs": [],
   "source": [
    "def create_inputs_and_targets(array_of_sequences):\n",
    "    \"\"\"\n",
    "    This function takes a 2D numpy array of token sequences, and returns a tuple of two\n",
    "    elements: the first element is the input array and the second element is the output\n",
    "    array, which are defined according to the above specification.\n",
    "    \"\"\"   \n",
    "    \n",
    "    input_seq = array_of_sequences[:, 0:-1]\n",
    "    target_seq = array_of_sequences[:, 1:]\n",
    "    return input_seq, target_seq"
   ]
  },
  {
   "cell_type": "code",
   "execution_count": 35,
   "metadata": {
    "id": "MzHXg9HcRfTB"
   },
   "outputs": [],
   "source": [
    "# Create the input and output arrays\n",
    "\n",
    "input_seq, target_seq = create_inputs_and_targets(padded_sequences)"
   ]
  },
  {
   "cell_type": "code",
   "execution_count": 36,
   "metadata": {
    "id": "S4gsVamxRfTK"
   },
   "outputs": [],
   "source": [
    "# Fix the batch size for training\n",
    "\n",
    "batch_size = 32"
   ]
  },
  {
   "cell_type": "code",
   "execution_count": 37,
   "metadata": {
    "id": "cJu9VgWFRfTP"
   },
   "outputs": [],
   "source": [
    "# Prepare input and output arrays for training the stateful RNN\n",
    "\n",
    "num_examples = input_seq.shape[0]\n",
    "\n",
    "num_processed_examples = num_examples - (num_examples % batch_size)\n",
    "\n",
    "input_seq = input_seq[:num_processed_examples]\n",
    "target_seq = target_seq[:num_processed_examples]\n",
    "\n",
    "steps = int(num_processed_examples / 32)  # steps per epoch\n",
    "\n",
    "inx = np.empty((0,), dtype=np.int32)\n",
    "for i in range(steps):\n",
    "    inx = np.concatenate((inx, i + np.arange(0, num_processed_examples, steps)))\n",
    "\n",
    "input_seq_stateful = input_seq[inx]\n",
    "target_seq_stateful = target_seq[inx]"
   ]
  },
  {
   "cell_type": "code",
   "execution_count": 38,
   "metadata": {
    "id": "iiLWfyemRfTU"
   },
   "outputs": [],
   "source": [
    "# Create the training and validation splits\n",
    "\n",
    "num_train_examples = int(batch_size * ((0.8 * num_processed_examples) // batch_size))\n",
    "\n",
    "input_train = input_seq_stateful[:num_train_examples]\n",
    "target_train = target_seq_stateful[:num_train_examples]\n",
    "\n",
    "input_valid = input_seq_stateful[num_train_examples:]\n",
    "target_valid = target_seq_stateful[num_train_examples:]"
   ]
  },
  {
   "cell_type": "code",
   "execution_count": 41,
   "metadata": {
    "id": "_DJAjEHKRfTY"
   },
   "outputs": [],
   "source": [
    "def make_Dataset(input_array, target_array, batch_size):\n",
    "    \"\"\"\n",
    "    This function takes two 2D numpy arrays in the first two arguments, and an integer\n",
    "    batch_size in the third argument. It should create and return a Dataset object \n",
    "    using the two numpy arrays and batch size according to the above specification.\n",
    "    \"\"\"\n",
    "    \n",
    "    dataset = tf.data.Dataset.from_tensor_slices((input_array, target_array))\n",
    "    dataset = dataset.batch(batch_size, drop_remainder=True)\n",
    "    return dataset"
   ]
  },
  {
   "cell_type": "code",
   "execution_count": 42,
   "metadata": {
    "id": "rzqK_qVARfTc"
   },
   "outputs": [],
   "source": [
    "# Create the training and validation Datasets\n",
    "\n",
    "train_data = make_Dataset(input_train, target_train, batch_size)\n",
    "valid_data = make_Dataset(input_valid, target_valid, batch_size)"
   ]
  },
  {
   "cell_type": "markdown",
   "metadata": {
    "id": "IKfaWcCCRfTf"
   },
   "source": [
    "#### Build the recurrent neural network model"
   ]
  },
  {
   "cell_type": "code",
   "execution_count": 44,
   "metadata": {
    "id": "oauekqOSRfTi"
   },
   "outputs": [],
   "source": [
    "def get_model(vocab_size, batch_size):\n",
    "    \"\"\"\n",
    "    This function takes a vocabulary size and batch size, and builds and returns a \n",
    "    Sequential model according to the above specification.\n",
    "    \"\"\"\n",
    "    \n",
    "    model = Sequential([Embedding(vocab_size, 256, mask_zero=True, batch_input_shape=(batch_size, None)),\n",
    "                        GRU(1024, stateful=True, return_sequences=True),\n",
    "                        Dense(vocab_size)])\n",
    "    return model"
   ]
  },
  {
   "cell_type": "code",
   "execution_count": 45,
   "metadata": {
    "colab": {
     "base_uri": "https://localhost:8080/"
    },
    "id": "AmmEfYo-RfTl",
    "outputId": "f5da2dd5-e087-453c-fbd3-7fc6b26204c7"
   },
   "outputs": [
    {
     "name": "stdout",
     "output_type": "stream",
     "text": [
      "Model: \"sequential\"\n",
      "_________________________________________________________________\n",
      "Layer (type)                 Output Shape              Param #   \n",
      "=================================================================\n",
      "embedding (Embedding)        (32, None, 256)           16640     \n",
      "_________________________________________________________________\n",
      "gru (GRU)                    (32, None, 1024)          3938304   \n",
      "_________________________________________________________________\n",
      "dense (Dense)                (32, None, 65)            66625     \n",
      "=================================================================\n",
      "Total params: 4,021,569\n",
      "Trainable params: 4,021,569\n",
      "Non-trainable params: 0\n",
      "_________________________________________________________________\n"
     ]
    }
   ],
   "source": [
    "model = get_model(len(tokenizer.word_index) + 1, batch_size)\n",
    "model.summary()"
   ]
  },
  {
   "cell_type": "code",
   "execution_count": 47,
   "metadata": {
    "colab": {
     "base_uri": "https://localhost:8080/"
    },
    "id": "DJhnIUHSRfTt",
    "outputId": "9c4601af-d7bb-4edd-c8ca-a8f80b464417"
   },
   "outputs": [
    {
     "name": "stdout",
     "output_type": "stream",
     "text": [
      "Epoch 1/15\n",
      "196/196 [==============================] - 106s 515ms/step - loss: 0.8454 - sparse_categorical_accuracy: 0.2304 - val_loss: 0.5880 - val_sparse_categorical_accuracy: 0.3886\n",
      "Epoch 2/15\n",
      "196/196 [==============================] - 99s 508ms/step - loss: 0.5443 - sparse_categorical_accuracy: 0.4171 - val_loss: 0.4869 - val_sparse_categorical_accuracy: 0.4852\n",
      "Epoch 3/15\n",
      "196/196 [==============================] - 100s 510ms/step - loss: 0.4592 - sparse_categorical_accuracy: 0.5018 - val_loss: 0.4377 - val_sparse_categorical_accuracy: 0.5321\n",
      "Epoch 4/15\n",
      "196/196 [==============================] - 100s 509ms/step - loss: 0.4132 - sparse_categorical_accuracy: 0.5459 - val_loss: 0.4124 - val_sparse_categorical_accuracy: 0.5547\n",
      "Epoch 5/15\n",
      "196/196 [==============================] - 100s 510ms/step - loss: 0.3845 - sparse_categorical_accuracy: 0.5734 - val_loss: 0.3981 - val_sparse_categorical_accuracy: 0.5698\n",
      "Epoch 6/15\n",
      "196/196 [==============================] - 100s 509ms/step - loss: 0.3638 - sparse_categorical_accuracy: 0.5925 - val_loss: 0.3900 - val_sparse_categorical_accuracy: 0.5777\n",
      "Epoch 7/15\n",
      "196/196 [==============================] - 99s 505ms/step - loss: 0.3466 - sparse_categorical_accuracy: 0.6086 - val_loss: 0.3861 - val_sparse_categorical_accuracy: 0.5819\n",
      "Epoch 8/15\n",
      "196/196 [==============================] - 99s 506ms/step - loss: 0.3322 - sparse_categorical_accuracy: 0.6223 - val_loss: 0.3855 - val_sparse_categorical_accuracy: 0.5842\n",
      "Epoch 9/15\n",
      "196/196 [==============================] - 99s 505ms/step - loss: 0.3174 - sparse_categorical_accuracy: 0.6375 - val_loss: 0.3871 - val_sparse_categorical_accuracy: 0.5842\n",
      "Epoch 10/15\n",
      "196/196 [==============================] - 99s 506ms/step - loss: 0.3030 - sparse_categorical_accuracy: 0.6526 - val_loss: 0.3934 - val_sparse_categorical_accuracy: 0.5830\n",
      "Epoch 11/15\n",
      "196/196 [==============================] - 99s 504ms/step - loss: 0.2885 - sparse_categorical_accuracy: 0.6686 - val_loss: 0.4017 - val_sparse_categorical_accuracy: 0.5811\n",
      "Epoch 12/15\n",
      "196/196 [==============================] - 98s 502ms/step - loss: 0.2750 - sparse_categorical_accuracy: 0.6833 - val_loss: 0.4149 - val_sparse_categorical_accuracy: 0.5724\n",
      "Epoch 13/15\n",
      "196/196 [==============================] - 99s 505ms/step - loss: 0.2638 - sparse_categorical_accuracy: 0.6949 - val_loss: 0.4241 - val_sparse_categorical_accuracy: 0.5712\n",
      "Epoch 14/15\n",
      "196/196 [==============================] - 99s 504ms/step - loss: 0.2539 - sparse_categorical_accuracy: 0.7058 - val_loss: 0.4307 - val_sparse_categorical_accuracy: 0.5688\n",
      "Epoch 15/15\n",
      "196/196 [==============================] - 98s 501ms/step - loss: 0.2451 - sparse_categorical_accuracy: 0.7151 - val_loss: 0.4396 - val_sparse_categorical_accuracy: 0.5685\n"
     ]
    }
   ],
   "source": [
    "# Compile and train the model\n",
    "\n",
    "checkpoint_callback=tf.keras.callbacks.ModelCheckpoint(filepath='./models/ckpt',\n",
    "                                                       save_weights_only=True,\n",
    "                                                       save_best_only=True)\n",
    "\n",
    "model.compile(optimizer='adam', loss=tf.keras.losses.SparseCategoricalCrossentropy(from_logits=True),\n",
    "              metrics=['sparse_categorical_accuracy'])\n",
    "\n",
    "history = model.fit(train_data, epochs=15, validation_data=valid_data, \n",
    "                    validation_steps=50, callbacks=[checkpoint_callback])"
   ]
  },
  {
   "cell_type": "code",
   "execution_count": 48,
   "metadata": {
    "id": "yqjTlQyoRfTx"
   },
   "outputs": [],
   "source": [
    "# Save model history as a json file\n",
    "\n",
    "history_dict = dict()\n",
    "for k, v in history.history.items():\n",
    "    history_dict[k] = [float(val) for val in history.history[k]]\n",
    "with open('models/history.json', 'w+') as json_file:\n",
    "    json.dump(history_dict, json_file, sort_keys=True, indent=4)"
   ]
  },
  {
   "cell_type": "markdown",
   "metadata": {
    "id": "upDpsmf9RfT2"
   },
   "source": [
    "#### Plot the learning curves"
   ]
  },
  {
   "cell_type": "code",
   "execution_count": 49,
   "metadata": {
    "colab": {
     "base_uri": "https://localhost:8080/",
     "height": 350
    },
    "id": "gGpPk5bbRfT3",
    "outputId": "57e680ae-a2cf-43e7-c6e9-746dade30319"
   },
   "outputs": [
    {
     "data": {
      "image/png": "[encoded data removed]",
      "text/plain": [
       "<Figure size 1080x360 with 2 Axes>"
      ]
     },
     "metadata": {
      "needs_background": "light",
      "tags": []
     },
     "output_type": "display_data"
    }
   ],
   "source": [
    "# Plot accuracy vs epoch and loss vs epoch\n",
    "\n",
    "plt.figure(figsize=(15,5))\n",
    "plt.subplot(121)\n",
    "plt.plot(history_dict['sparse_categorical_accuracy'])\n",
    "plt.plot(history_dict['val_sparse_categorical_accuracy'])\n",
    "plt.title('Accuracy vs. epochs')\n",
    "plt.ylabel('Accuracy')\n",
    "plt.xlabel('Epoch')\n",
    "plt.xticks(np.arange(len(history_dict['sparse_categorical_accuracy'])))\n",
    "ax = plt.gca()\n",
    "ax.set_xticklabels(1 + np.arange(len(history_dict['sparse_categorical_accuracy'])))\n",
    "plt.legend(['Training', 'Validation'], loc='lower right')\n",
    "\n",
    "plt.subplot(122)\n",
    "plt.plot(history_dict['loss'])\n",
    "plt.plot(history_dict['val_loss'])\n",
    "plt.title('Loss vs. epochs')\n",
    "plt.ylabel('Loss')\n",
    "plt.xlabel('Epoch')\n",
    "plt.xticks(np.arange(len(history_dict['sparse_categorical_accuracy'])))\n",
    "ax = plt.gca()\n",
    "ax.set_xticklabels(1 + np.arange(len(history_dict['sparse_categorical_accuracy'])))\n",
    "plt.legend(['Training', 'Validation'], loc='upper right')\n",
    "plt.show() "
   ]
  },
  {
   "cell_type": "code",
   "execution_count": 70,
   "metadata": {
    "colab": {
     "base_uri": "https://localhost:8080/"
    },
    "id": "zzQW69qxRfT_",
    "outputId": "1231b580-24b8-442f-85a4-a5dd58675d34"
   },
   "outputs": [
    {
     "data": {
      "text/plain": [
       "<tensorflow.python.training.tracking.util.CheckpointLoadStatus at 0x7f35a2c68610>"
      ]
     },
     "execution_count": 70,
     "metadata": {
      "tags": []
     },
     "output_type": "execute_result"
    }
   ],
   "source": [
    "# loading the saved weights\n",
    "\n",
    "model = get_model(len(tokenizer.word_index) + 1, batch_size=1)\n",
    "model.load_weights(tf.train.latest_checkpoint('./models/'))"
   ]
  },
  {
   "cell_type": "code",
   "execution_count": 71,
   "metadata": {
    "colab": {
     "base_uri": "https://localhost:8080/"
    },
    "id": "DDbzdt0LRfUE",
    "outputId": "af4e3677-3a42-4e82-b1fe-8e975498f75d"
   },
   "outputs": [
    {
     "data": {
      "text/plain": [
       "[<tf.Variable 'gru_4/Variable:0' shape=(1, 1024) dtype=float32, numpy=array([[0., 0., 0., ..., 0., 0., 0.]], dtype=float32)>]"
      ]
     },
     "execution_count": 71,
     "metadata": {
      "tags": []
     },
     "output_type": "execute_result"
    }
   ],
   "source": [
    "model.layers[1].states"
   ]
  },
  {
   "cell_type": "code",
   "execution_count": 144,
   "metadata": {
    "id": "3aHg6y44RfUJ"
   },
   "outputs": [],
   "source": [
    "def get_logits(model, token_sequence, initial_state=None):\n",
    "    \"\"\"\n",
    "    This function takes a model object, a token sequence and an optional initial\n",
    "    state for the recurrent layer. The function should return the logits prediction\n",
    "    for the final time step as a 2D numpy array.\n",
    "    \"\"\"\n",
    "    \n",
    "    token_sequence = np.array(token_sequence)\n",
    "    if initial_state is None:\n",
    "      model.layers[1].reset_states()\n",
    "    else:\n",
    "      model.layers[1].reset_states(states=initial_state)\n",
    "      \n",
    "    logits_last = model.predict(token_sequence)[:, -1, :]\n",
    "    return logits_last"
   ]
  },
  {
   "cell_type": "code",
   "execution_count": 145,
   "metadata": {
    "colab": {
     "base_uri": "https://localhost:8080/"
    },
    "id": "La2CNRzqRfUN",
    "outputId": "3ec3a790-343c-48c1-9b92-e0547c880214"
   },
   "outputs": [
    {
     "data": {
      "text/plain": [
       "array([[ -4.710582  ,   2.736878  ,   0.0335096 ,   2.5561767 ,\n",
       "          2.7967265 ,  -0.01983285,  -5.8485723 ,   3.546525  ,\n",
       "          4.676036  ,   4.489162  ,   0.11737533,   2.3188517 ,\n",
       "          6.6354427 ,   1.1600387 ,   3.9553764 ,   5.084264  ,\n",
       "         -2.9806752 ,   2.79088   ,   2.5414495 ,   1.380785  ,\n",
       "          3.5543182 ,   0.2860424 ,  -7.219336  ,   2.9488802 ,\n",
       "          4.8911495 ,   2.8503926 ,  -7.420114  ,  -1.5220466 ,\n",
       "         -0.4267702 ,  -4.263945  ,   2.8632722 , -10.146733  ,\n",
       "         -6.752744  ,  -2.5949774 ,  -1.8623933 ,  -1.6163948 ,\n",
       "         -4.346544  ,  -5.7944517 ,   1.445004  ,  -4.9746504 ,\n",
       "         -8.450436  ,  -7.74036   ,  -3.5760243 ,  -3.7357373 ,\n",
       "         -0.13706858,  -1.8923265 ,   1.2184678 ,  -7.308176  ,\n",
       "          1.4387581 ,  -4.799081  ,  -5.6478257 ,  -2.044314  ,\n",
       "         -8.205276  ,  -2.7290716 ,  -4.230869  ,  -0.57535535,\n",
       "         -3.1513386 ,  -0.3978611 ,  -5.1095    ,  -5.8542705 ,\n",
       "         -3.1534839 ,  -5.287701  ,  -3.7340014 ,  -4.676816  ,\n",
       "         -4.229335  ]], dtype=float32)"
      ]
     },
     "execution_count": 145,
     "metadata": {
      "tags": []
     },
     "output_type": "execute_result"
    }
   ],
   "source": [
    "dummy_initial_state = tf.random.normal(model.layers[1].states[0].shape)\n",
    "get_logits(model, [[1, 2, 3, 4]], initial_state=dummy_initial_state)"
   ]
  },
  {
   "cell_type": "code",
   "execution_count": 146,
   "metadata": {
    "id": "LObVBMdzRfUS"
   },
   "outputs": [],
   "source": [
    "def sample_token(logits):\n",
    "    \"\"\"\n",
    "    This function takes a 2D numpy array as an input, and constructs a \n",
    "    categorical distribution using it. It should then sample from this\n",
    "    distribution and return the sample as a single integer.\n",
    "    \"\"\"\n",
    "    \n",
    "    sample = tf.random.categorical(logits, 1).numpy()[0][0]\n",
    "    return sample"
   ]
  },
  {
   "cell_type": "code",
   "execution_count": 147,
   "metadata": {
    "colab": {
     "base_uri": "https://localhost:8080/"
    },
    "id": "MrgPsuOYRfUV",
    "outputId": "3de7d965-cce1-4dcb-aa02-4a10c8dfb2b9"
   },
   "outputs": [
    {
     "data": {
      "text/plain": [
       "8"
      ]
     },
     "execution_count": 147,
     "metadata": {
      "tags": []
     },
     "output_type": "execute_result"
    }
   ],
   "source": [
    "# Test the sample_token function by passing dummy logits\n",
    "\n",
    "dummy_initial_state = tf.random.normal(model.layers[1].states[0].shape)\n",
    "dummy_logits = get_logits(model, [[1, 2, 3, 4]], initial_state=dummy_initial_state)\n",
    "sample_token(dummy_logits)"
   ]
  },
  {
   "cell_type": "markdown",
   "metadata": {
    "id": "7A0FOxOTRfUc"
   },
   "source": [
    "#### Generating text from the model"
   ]
  },
  {
   "cell_type": "code",
   "execution_count": 149,
   "metadata": {
    "id": "KgXNTiaYRfUd"
   },
   "outputs": [],
   "source": [
    "# Create a seed string and number of generation steps\n",
    "\n",
    "init_string = 'ROMEO:'\n",
    "num_generation_steps = 1000"
   ]
  },
  {
   "cell_type": "code",
   "execution_count": 150,
   "metadata": {
    "colab": {
     "base_uri": "https://localhost:8080/"
    },
    "id": "6jm4JeyyRfUf",
    "outputId": "16dd8cfc-4f40-42da-9623-5d06ec9dc321"
   },
   "outputs": [
    {
     "name": "stdout",
     "output_type": "stream",
     "text": [
      "ROMEO:\n",
      "Even my brother's mulchtired hame!\n",
      "Why, think'st thou, boy! is off that the king's bace,\n",
      "And this fair cup As lovers' by deed days,\n",
      "Tranioating lie in tigurd-man's left,--\n",
      "Such as confixed to be mercy, beggarding,\n",
      "If I change six upon the very damony\n",
      "That soot of inclast, as thy accusation'd wond,\n",
      "That he robes the vicious staring honour\n",
      "Or I will not never to chide unto your comin,\n",
      "Bear me in my tale fielding, there I'll dream'd\n",
      "All, that the what been and more companions, here comes as as I came best\n",
      "Takes near, from those eyes'd upon you! sere the ear,\n",
      "Or let him stain'd putisons home, the art\n",
      "to London,--\n",
      "\n",
      "HENRY BOLINGBROKE:\n",
      "My lord, and see' none, I never neat as thinkings;\n",
      "And toward, and virewly, nor I go;\n",
      "Feld cold, there in sick-father may it in the go\n",
      "\n",
      "Second Servingman:\n",
      "Fies at this dewake 'Ay, if, Bianca to your counsel\n",
      "And all these words whose feich we to know;\n",
      "And, when only put that there have mean't\n",
      "What!\n",
      "Grey yea, this weyling all these are all,\n",
      "From whence they do w\n"
     ]
    }
   ],
   "source": [
    "# Use the model to generate a token sequence\n",
    "\n",
    "token_sequence = tokenizer.texts_to_sequences([init_string])\n",
    "initial_state = None\n",
    "input_sequence = token_sequence\n",
    "\n",
    "for _ in range(num_generation_steps):\n",
    "    logits = get_logits(model, input_sequence, initial_state=initial_state)\n",
    "    sampled_token = sample_token(logits)\n",
    "    token_sequence[0].append(sampled_token)\n",
    "    input_sequence = [[sampled_token]]\n",
    "    initial_state = model.layers[1].states[0].numpy()\n",
    "    \n",
    "print(tokenizer.sequences_to_texts(token_sequence)[0][::2])"
   ]
  }
 ],
 "metadata": {
  "accelerator": "GPU",
  "colab": {
   "collapsed_sections": [
    "gWObVg6DRfSi",
    "iRCN70xkRfSt",
    "U-4W2iICRfS3",
    "YFTEK7hnRfTJ",
    "Rm8gNoNJRfTT",
    "FQ_mAEoPRfTX",
    "IKfaWcCCRfTf",
    "4PJ4cU0YRfTo",
    "upDpsmf9RfT2",
    "2msBeLSoRfT7",
    "7A0FOxOTRfUc"
   ],
   "name": "Course-2 Week 3 Programming Assignment.ipynb",
   "provenance": []
  },
  "coursera": {
   "course_slug": "tensor-flow-2-2",
   "graded_item_id": "4eYSM",
   "launcher_item_id": "HEV6h"
  },
  "kernelspec": {
   "display_name": "Python 3",
   "language": "python",
   "name": "python3"
  },
  "language_info": {
   "codemirror_mode": {
    "name": "ipython",
    "version": 3
   },
   "file_extension": ".py",
   "mimetype": "text/x-python",
   "name": "python",
   "nbconvert_exporter": "python",
   "pygments_lexer": "ipython3",
   "version": "3.7.3"
  }
 },
 "nbformat": 4,
 "nbformat_minor": 1
}
